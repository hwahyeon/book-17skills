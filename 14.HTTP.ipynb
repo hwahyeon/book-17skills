{
 "cells": [
  {
   "cell_type": "markdown",
   "metadata": {},
   "source": [
    "# 14 HTTP"
   ]
  },
  {
   "cell_type": "markdown",
   "metadata": {},
   "source": [
    "HTTP는 여러 다른 기술과 사용된다. JSON 등을 HTTP와 함께 사용하는 RESTful API, XML과 HTTP를 함께 사용하는 SOAP 등이 있다."
   ]
  },
  {
   "cell_type": "markdown",
   "metadata": {},
   "source": [
    "### 14.1 무상태성\n",
    "- HTTP는 요청 메시지를 보내기 직전까지 대상 컴퓨터가 연결 가능한지, 메시지를 응답할 수 있는 상태인지 알 수 없다. 이를 Stateless 프로토콜이라고 한다.\n",
    "- TCP는 Stateful(상태가 있는) 프로토콜이며, 명시적으로 연결을 닫기 전까지 계속 메시지를 주고 받는다. 한쪽에서 문제가 생기거나 주고 받을 메시지가 없을 때까지 연결을 계속 유지하는 것이다. TCP는 텍스트가 아닌 바이너리 데이터를 사용하므로, TCP 프로토콜 기반에 텍스트 기반의 HTTP 헤더와 메시지까지 사용하는 HTTP의 패킷 크기는 상대적으로 크다. TCP 패킷 크기는 상대적으로 작아서 HTTP보다 더 빠르다.\n",
    "- HTTP는 각 요청이 소켓 1개를 사용하나, TCP는 모든 요청이 소켓 1개를 사용한다. 그렇기에 별도로 요청 ID 따위의 식별자가 필요하며, 타임아웃 기능, 연결이 자주 끊어지는 상황에서의 재연결 제어 로직 등을 직접 구현해야 한다.\n",
    "- 대부분의 웹 서비스는 메시지 통신 처리보다 기능 로직 처리 시간이 더 길기 때문에, 프로토콜에 따른 시간 차는 크지 않다. 이에 TCP는 게임이나 금융 서비스처럼 1초 사이에 주고받는 데이터가 많아 메시지 처리 시간이 로직처리보다 오래 걸리는 경우에만 사용하는 것이 좋다."
   ]
  },
  {
   "cell_type": "markdown",
   "metadata": {},
   "source": [
    "### 14.3 HTTP 요청\n",
    "- GET 메서드에는 읽기 요청에 해당하므로 메시지 body를 넣을 수 없다. 대신 쿼리 파라미터(?, &)를 주소에서 사용할 수 있다.\n",
    "- POST 메서드는 클라이언트에서 서버로 데이터가 포함된 요청을 보낼 때 쓴다. (ID, PW로 로그인할 때 | 장바구니에 상품담고 주문 요청할 때)\n",
    "- DELETE, PUT 메서드는 기술적으로 POST와 큰 차이가 없다.\n",
    "- URL은 사람이 기억하기 쉽게 만든 식별자다. 두 컴퓨터가 실제로 통신할 때는 URL을 IP로 변환하는 작업이 필요하다. 주소 변환 작업은 Domain name system DNS를 통해 한다.\n",
    "- 하나의 URL이 여러 IP 주소를 가질 수도 있다. Client가 IP 주소를 요청할 때마다 DNS에서 여러 IP 주소 중 하나를 보내주므로 서버 부하를 줄일 수 있다. 이를 DNS round robin 혹은 DNS load balancing이라고 한다.\n",
    "- URI는 Uniform Resource Identifier의 약자로, 문서나 영상 같은 자원의 위치를 가리킬 때 사용하는 용어다. URI는 URL, XML 등에서 사용한다."
   ]
  }
 ],
 "metadata": {
  "kernelspec": {
   "display_name": "Python 3.7.7 64-bit",
   "language": "python",
   "name": "python3"
  },
  "language_info": {
   "codemirror_mode": {
    "name": "ipython",
    "version": 3
   },
   "file_extension": ".py",
   "mimetype": "text/x-python",
   "name": "python",
   "nbconvert_exporter": "python",
   "pygments_lexer": "ipython3",
   "version": "3.7.7"
  },
  "orig_nbformat": 4,
  "vscode": {
   "interpreter": {
    "hash": "d49c3f6d6dd49f9272b571d9fad348ab55b8c6c3f691520d74ed0af1f69c3dd8"
   }
  }
 },
 "nbformat": 4,
 "nbformat_minor": 2
}
